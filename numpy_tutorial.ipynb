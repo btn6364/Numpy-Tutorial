{
 "cells": [
  {
   "cell_type": "code",
   "execution_count": 1,
   "metadata": {},
   "outputs": [],
   "source": [
    "# Installations and import \n",
    "# pip install numpy \n",
    "import numpy as np "
   ]
  },
  {
   "cell_type": "markdown",
   "metadata": {},
   "source": [
    "Numpy Basics"
   ]
  },
  {
   "cell_type": "code",
   "execution_count": 2,
   "metadata": {},
   "outputs": [
    {
     "name": "stdout",
     "output_type": "stream",
     "text": [
      "Array = [1 2 3]\n",
      "Number of dimensions = 1\n",
      "Shape = (3,)\n",
      "Data type = int64\n",
      "Item size in bytes = 8\n"
     ]
    }
   ],
   "source": [
    "# Create an array and get basics information\n",
    "a = np.array([1, 2, 3])\n",
    "print(f\"Array = {a}\") \n",
    "print(f\"Number of dimensions = {a.ndim}\")\n",
    "print(f\"Shape = {a.shape}\")\n",
    "print(f\"Data type = {a.dtype}\")\n",
    "print(f\"Item size in bytes = {a.itemsize}\")"
   ]
  },
  {
   "cell_type": "code",
   "execution_count": 3,
   "metadata": {},
   "outputs": [
    {
     "name": "stdout",
     "output_type": "stream",
     "text": [
      "[[1.  2.  3. ]\n",
      " [3.2 4.  5. ]\n",
      " [1.  3.  5.2]]\n",
      "Data type = float64\n"
     ]
    }
   ],
   "source": [
    "# Create a new array with different data types\n",
    "a = np.array([[1, 2, 3], [3.2, 4, 5], [1, 3, 5.2]])\n",
    "print(a) \n",
    "print(f\"Data type = {a.dtype}\")"
   ]
  },
  {
   "cell_type": "code",
   "execution_count": 4,
   "metadata": {},
   "outputs": [
    {
     "data": {
      "text/plain": [
       "array([[1, 2, 3],\n",
       "       [3, 4, 5],\n",
       "       [1, 3, 5]])"
      ]
     },
     "execution_count": 4,
     "metadata": {},
     "output_type": "execute_result"
    }
   ],
   "source": [
    "# Indexing and slicing \n",
    "a = np.array([[1, 2, 3], [3, 4, 5], [1, 3, 5]])\n",
    "a"
   ]
  },
  {
   "cell_type": "code",
   "execution_count": 5,
   "metadata": {},
   "outputs": [
    {
     "name": "stdout",
     "output_type": "stream",
     "text": [
      "3\n",
      "5\n"
     ]
    }
   ],
   "source": [
    "# Get number at a specific row and column \n",
    "print(a[0,2])\n",
    "print(a[1,2])"
   ]
  },
  {
   "cell_type": "code",
   "execution_count": 6,
   "metadata": {},
   "outputs": [
    {
     "name": "stdout",
     "output_type": "stream",
     "text": [
      "Numbers from 1st row = [1 2 3]\n",
      "Numbers from 2nd column = [2 4 3]\n"
     ]
    }
   ],
   "source": [
    "# Get numbers from one row or one column \n",
    "print(f\"Numbers from 1st row = {a[0, :]}\")\n",
    "print(f\"Numbers from 2nd column = {a[:, 1]}\")"
   ]
  },
  {
   "cell_type": "code",
   "execution_count": 7,
   "metadata": {},
   "outputs": [
    {
     "data": {
      "text/plain": [
       "array([[4, 5],\n",
       "       [3, 5]])"
      ]
     },
     "execution_count": 7,
     "metadata": {},
     "output_type": "execute_result"
    }
   ],
   "source": [
    "# Get a sub matrix \n",
    "b = a[1:3,1:3]\n",
    "b"
   ]
  },
  {
   "cell_type": "code",
   "execution_count": 8,
   "metadata": {},
   "outputs": [
    {
     "data": {
      "text/plain": [
       "array([[1, 3],\n",
       "       [3, 5],\n",
       "       [1, 5]])"
      ]
     },
     "execution_count": 8,
     "metadata": {},
     "output_type": "execute_result"
    }
   ],
   "source": [
    "# Get random rows or columns \n",
    "b = a[:,[0,2]]\n",
    "b"
   ]
  },
  {
   "cell_type": "code",
   "execution_count": 9,
   "metadata": {},
   "outputs": [
    {
     "data": {
      "text/plain": [
       "array([ 6,  5,  5,  7, 10, 11])"
      ]
     },
     "execution_count": 9,
     "metadata": {},
     "output_type": "execute_result"
    }
   ],
   "source": [
    "# Boolean masking \n",
    "a = np.array([[4,1,6],[5,2,5],[7,10,11]])\n",
    "b = a[a > 4]\n",
    "b"
   ]
  },
  {
   "cell_type": "code",
   "execution_count": 10,
   "metadata": {},
   "outputs": [
    {
     "data": {
      "text/plain": [
       "array([4, 6, 5, 5, 7])"
      ]
     },
     "execution_count": 10,
     "metadata": {},
     "output_type": "execute_result"
    }
   ],
   "source": [
    "b = a[(a > 2) & (a < 10)]\n",
    "b"
   ]
  },
  {
   "cell_type": "markdown",
   "metadata": {},
   "source": [
    "Initialize different types of arrays"
   ]
  },
  {
   "cell_type": "code",
   "execution_count": 11,
   "metadata": {},
   "outputs": [
    {
     "data": {
      "text/plain": [
       "array([[0., 0.],\n",
       "       [0., 0.],\n",
       "       [0., 0.]])"
      ]
     },
     "execution_count": 11,
     "metadata": {},
     "output_type": "execute_result"
    }
   ],
   "source": [
    "zeros = np.zeros((3, 2))\n",
    "zeros"
   ]
  },
  {
   "cell_type": "code",
   "execution_count": 12,
   "metadata": {},
   "outputs": [
    {
     "data": {
      "text/plain": [
       "array([[1., 1., 1.],\n",
       "       [1., 1., 1.],\n",
       "       [1., 1., 1.]])"
      ]
     },
     "execution_count": 12,
     "metadata": {},
     "output_type": "execute_result"
    }
   ],
   "source": [
    "ones = np.ones((3,3))\n",
    "ones"
   ]
  },
  {
   "cell_type": "code",
   "execution_count": 13,
   "metadata": {},
   "outputs": [
    {
     "data": {
      "text/plain": [
       "array([[2, 2, 2, 2],\n",
       "       [2, 2, 2, 2],\n",
       "       [2, 2, 2, 2]])"
      ]
     },
     "execution_count": 13,
     "metadata": {},
     "output_type": "execute_result"
    }
   ],
   "source": [
    "twos = np.full((3,4), 2)\n",
    "twos"
   ]
  },
  {
   "cell_type": "code",
   "execution_count": 14,
   "metadata": {},
   "outputs": [
    {
     "data": {
      "text/plain": [
       "array([[1., 0., 0., 0.],\n",
       "       [0., 1., 0., 0.],\n",
       "       [0., 0., 1., 0.],\n",
       "       [0., 0., 0., 1.]])"
      ]
     },
     "execution_count": 14,
     "metadata": {},
     "output_type": "execute_result"
    }
   ],
   "source": [
    "identity = np.identity(4) # 4x4 matrix\n",
    "identity"
   ]
  },
  {
   "cell_type": "code",
   "execution_count": 15,
   "metadata": {},
   "outputs": [
    {
     "name": "stdout",
     "output_type": "stream",
     "text": [
      "Random 3x2 matrix\n",
      "[[0.83271249 0.58218417]\n",
      " [0.33441797 0.05632928]\n",
      " [0.48616002 0.67543143]]\n",
      "\n",
      "Random 3x2x2 matrix\n",
      "[[[0.59835648 0.52728203]\n",
      "  [0.87888195 0.51509995]]\n",
      "\n",
      " [[0.67363927 0.19227186]\n",
      "  [0.9656397  0.2858845 ]]\n",
      "\n",
      " [[0.09592197 0.76381005]\n",
      "  [0.18346077 0.62304725]]]\n"
     ]
    }
   ],
   "source": [
    "# Create a random matrix will values between 0 and 1\n",
    "random_3x2_matrix = np.random.rand(3,2)\n",
    "print(\"Random 3x2 matrix\")\n",
    "print(random_3x2_matrix)\n",
    "random_3x2x2_matrix = np.random.rand(3,2,2)\n",
    "print(\"\\nRandom 3x2x2 matrix\")\n",
    "print(random_3x2x2_matrix)"
   ]
  },
  {
   "cell_type": "code",
   "execution_count": 16,
   "metadata": {},
   "outputs": [
    {
     "data": {
      "text/plain": [
       "array([ 1.        ,  1.64285714,  2.28571429,  2.92857143,  3.57142857,\n",
       "        4.21428571,  4.85714286,  5.5       ,  6.14285714,  6.78571429,\n",
       "        7.42857143,  8.07142857,  8.71428571,  9.35714286, 10.        ])"
      ]
     },
     "execution_count": 16,
     "metadata": {},
     "output_type": "execute_result"
    }
   ],
   "source": [
    "# Create an even-space distributed array \n",
    "a = np.linspace(start=1, stop=10, num=15)\n",
    "a"
   ]
  },
  {
   "cell_type": "code",
   "execution_count": 17,
   "metadata": {},
   "outputs": [
    {
     "data": {
      "text/plain": [
       "array([2, 4, 6, 8])"
      ]
     },
     "execution_count": 17,
     "metadata": {},
     "output_type": "execute_result"
    }
   ],
   "source": [
    "# Create an array with start and stop positions\n",
    "a = np.arange(start=2, stop=10, step=2)\n",
    "a"
   ]
  },
  {
   "cell_type": "markdown",
   "metadata": {},
   "source": [
    "Reorganize arrays"
   ]
  },
  {
   "cell_type": "code",
   "execution_count": 18,
   "metadata": {},
   "outputs": [
    {
     "name": "stdout",
     "output_type": "stream",
     "text": [
      "[[1 2 3]\n",
      " [3 1 2]]\n",
      "Shape = (2, 3)\n"
     ]
    }
   ],
   "source": [
    "a = np.array([[1,2,3],[3,1,2]])\n",
    "print(a) \n",
    "print(f\"Shape = {a.shape}\")"
   ]
  },
  {
   "cell_type": "code",
   "execution_count": 19,
   "metadata": {},
   "outputs": [
    {
     "data": {
      "text/plain": [
       "array([[1, 2],\n",
       "       [3, 3],\n",
       "       [1, 2]])"
      ]
     },
     "execution_count": 19,
     "metadata": {},
     "output_type": "execute_result"
    }
   ],
   "source": [
    "b = a.reshape((3,2))\n",
    "b"
   ]
  },
  {
   "cell_type": "code",
   "execution_count": 20,
   "metadata": {},
   "outputs": [
    {
     "ename": "ValueError",
     "evalue": "cannot reshape array of size 6 into shape (3,3)",
     "output_type": "error",
     "traceback": [
      "\u001b[0;31m---------------------------------------------------------------------------\u001b[0m",
      "\u001b[0;31mValueError\u001b[0m                                Traceback (most recent call last)",
      "Cell \u001b[0;32mIn[20], line 2\u001b[0m\n\u001b[1;32m      1\u001b[0m \u001b[38;5;66;03m# BE CAREFUL: Cannot reshape a 3x2 array to a 3x3 array\u001b[39;00m\n\u001b[0;32m----> 2\u001b[0m b \u001b[38;5;241m=\u001b[39m \u001b[43ma\u001b[49m\u001b[38;5;241;43m.\u001b[39;49m\u001b[43mreshape\u001b[49m\u001b[43m(\u001b[49m\u001b[43m(\u001b[49m\u001b[38;5;241;43m3\u001b[39;49m\u001b[43m,\u001b[49m\u001b[38;5;241;43m3\u001b[39;49m\u001b[43m)\u001b[49m\u001b[43m)\u001b[49m\n\u001b[1;32m      3\u001b[0m b\n",
      "\u001b[0;31mValueError\u001b[0m: cannot reshape array of size 6 into shape (3,3)"
     ]
    }
   ],
   "source": [
    "# BE CAREFUL: Cannot reshape a 3x2 array to a 3x3 array\n",
    "b = a.reshape((3,3))\n",
    "b"
   ]
  },
  {
   "cell_type": "code",
   "execution_count": 21,
   "metadata": {},
   "outputs": [
    {
     "name": "stdout",
     "output_type": "stream",
     "text": [
      "[[1 2 3]\n",
      " [2 3 4]]\n",
      "[[2 3 4]\n",
      " [5 1 6]]\n"
     ]
    }
   ],
   "source": [
    "# Stack different arrays\n",
    "a = np.array([[1,2,3],[2,3,4]])\n",
    "b = np.array([[2,3,4],[5,1,6]])\n",
    "print(a) \n",
    "print(b) "
   ]
  },
  {
   "cell_type": "code",
   "execution_count": 22,
   "metadata": {},
   "outputs": [
    {
     "data": {
      "text/plain": [
       "array([[1, 2, 3],\n",
       "       [2, 3, 4],\n",
       "       [2, 3, 4],\n",
       "       [5, 1, 6]])"
      ]
     },
     "execution_count": 22,
     "metadata": {},
     "output_type": "execute_result"
    }
   ],
   "source": [
    "# Vertical stack\n",
    "vertical_stack = np.vstack((a, b))\n",
    "vertical_stack"
   ]
  },
  {
   "cell_type": "code",
   "execution_count": 23,
   "metadata": {},
   "outputs": [
    {
     "data": {
      "text/plain": [
       "array([[1, 2, 3, 2, 3, 4],\n",
       "       [2, 3, 4, 5, 1, 6]])"
      ]
     },
     "execution_count": 23,
     "metadata": {},
     "output_type": "execute_result"
    }
   ],
   "source": [
    "# Horizontal stack\n",
    "horizontal_stack = np.hstack((a,b))\n",
    "horizontal_stack"
   ]
  },
  {
   "cell_type": "code",
   "execution_count": 24,
   "metadata": {},
   "outputs": [
    {
     "ename": "ValueError",
     "evalue": "all the input array dimensions except for the concatenation axis must match exactly, but along dimension 1, the array at index 0 has size 3 and the array at index 1 has size 2",
     "output_type": "error",
     "traceback": [
      "\u001b[0;31m---------------------------------------------------------------------------\u001b[0m",
      "\u001b[0;31mValueError\u001b[0m                                Traceback (most recent call last)",
      "Cell \u001b[0;32mIn[24], line 4\u001b[0m\n\u001b[1;32m      2\u001b[0m a \u001b[38;5;241m=\u001b[39m np\u001b[38;5;241m.\u001b[39marray([[\u001b[38;5;241m1\u001b[39m,\u001b[38;5;241m2\u001b[39m,\u001b[38;5;241m3\u001b[39m],[\u001b[38;5;241m1\u001b[39m,\u001b[38;5;241m2\u001b[39m,\u001b[38;5;241m3\u001b[39m]])\n\u001b[1;32m      3\u001b[0m b \u001b[38;5;241m=\u001b[39m np\u001b[38;5;241m.\u001b[39marray([[\u001b[38;5;241m1\u001b[39m,\u001b[38;5;241m1\u001b[39m]])\n\u001b[0;32m----> 4\u001b[0m vertical_stack \u001b[38;5;241m=\u001b[39m \u001b[43mnp\u001b[49m\u001b[38;5;241;43m.\u001b[39;49m\u001b[43mvstack\u001b[49m\u001b[43m(\u001b[49m\u001b[43m(\u001b[49m\u001b[43ma\u001b[49m\u001b[43m,\u001b[49m\u001b[43mb\u001b[49m\u001b[43m)\u001b[49m\u001b[43m)\u001b[49m\n\u001b[1;32m      5\u001b[0m vertical_stack\n",
      "File \u001b[0;32m~/.pyenv/versions/3.10.1/lib/python3.10/site-packages/numpy/core/shape_base.py:289\u001b[0m, in \u001b[0;36mvstack\u001b[0;34m(tup, dtype, casting)\u001b[0m\n\u001b[1;32m    287\u001b[0m \u001b[38;5;28;01mif\u001b[39;00m \u001b[38;5;129;01mnot\u001b[39;00m \u001b[38;5;28misinstance\u001b[39m(arrs, \u001b[38;5;28mlist\u001b[39m):\n\u001b[1;32m    288\u001b[0m     arrs \u001b[38;5;241m=\u001b[39m [arrs]\n\u001b[0;32m--> 289\u001b[0m \u001b[38;5;28;01mreturn\u001b[39;00m \u001b[43m_nx\u001b[49m\u001b[38;5;241;43m.\u001b[39;49m\u001b[43mconcatenate\u001b[49m\u001b[43m(\u001b[49m\u001b[43marrs\u001b[49m\u001b[43m,\u001b[49m\u001b[43m \u001b[49m\u001b[38;5;241;43m0\u001b[39;49m\u001b[43m,\u001b[49m\u001b[43m \u001b[49m\u001b[43mdtype\u001b[49m\u001b[38;5;241;43m=\u001b[39;49m\u001b[43mdtype\u001b[49m\u001b[43m,\u001b[49m\u001b[43m \u001b[49m\u001b[43mcasting\u001b[49m\u001b[38;5;241;43m=\u001b[39;49m\u001b[43mcasting\u001b[49m\u001b[43m)\u001b[49m\n",
      "\u001b[0;31mValueError\u001b[0m: all the input array dimensions except for the concatenation axis must match exactly, but along dimension 1, the array at index 0 has size 3 and the array at index 1 has size 2"
     ]
    }
   ],
   "source": [
    "# BE CAREFUL: we can only stack arrays with compatible sizes \n",
    "a = np.array([[1,2,3],[1,2,3]])\n",
    "b = np.array([[1,1]])\n",
    "vertical_stack = np.vstack((a,b))\n",
    "vertical_stack"
   ]
  },
  {
   "cell_type": "markdown",
   "metadata": {},
   "source": [
    "Mathematics"
   ]
  },
  {
   "cell_type": "code",
   "execution_count": 25,
   "metadata": {},
   "outputs": [
    {
     "name": "stdout",
     "output_type": "stream",
     "text": [
      "Min = 1\n",
      "Max = 3\n",
      "Sum = 12\n",
      "Mean = 2.0\n",
      "Variance = 0.6666666666666666\n",
      "Standard deviation = 0.816496580927726\n"
     ]
    }
   ],
   "source": [
    "# Statistics \n",
    "a = np.array([[1,2,3],[2,3,1]])\n",
    "print(f\"Min = {np.min(a)}\")\n",
    "print(f\"Max = {np.max(a)}\")\n",
    "print(f\"Sum = {np.sum(a)}\")\n",
    "print(f\"Mean = {np.mean(a)}\")\n",
    "print(f\"Variance = {np.var(a)}\")\n",
    "print(f\"Standard deviation = {np.std(a)}\")"
   ]
  },
  {
   "cell_type": "code",
   "execution_count": 26,
   "metadata": {},
   "outputs": [
    {
     "name": "stdout",
     "output_type": "stream",
     "text": [
      "Add 1 to all elements in a\n",
      "[[2 3 4]\n",
      " [3 4 2]]\n"
     ]
    }
   ],
   "source": [
    "# Broadcasting\n",
    "a = np.array([[1,2,3],[2,3,1]])\n",
    "b = a + 1\n",
    "print(f\"Add 1 to all elements in a\")\n",
    "print(b) "
   ]
  },
  {
   "cell_type": "code",
   "execution_count": 27,
   "metadata": {},
   "outputs": [
    {
     "name": "stdout",
     "output_type": "stream",
     "text": [
      "Subtract 2 to all elements in a\n",
      "[[-1  0  1]\n",
      " [ 0  1 -1]]\n"
     ]
    }
   ],
   "source": [
    "b = a - 2\n",
    "print(f\"Subtract 2 to all elements in a\")\n",
    "print(b) "
   ]
  },
  {
   "cell_type": "code",
   "execution_count": 28,
   "metadata": {},
   "outputs": [
    {
     "name": "stdout",
     "output_type": "stream",
     "text": [
      "Multiple 4 to all elements in a\n",
      "[[ 4  8 12]\n",
      " [ 8 12  4]]\n"
     ]
    }
   ],
   "source": [
    "b = a * 4\n",
    "print(f\"Multiple 4 to all elements in a\")\n",
    "print(b) "
   ]
  },
  {
   "cell_type": "code",
   "execution_count": 29,
   "metadata": {},
   "outputs": [
    {
     "data": {
      "text/plain": [
       "array([[3, 5, 7],\n",
       "       [4, 6, 5],\n",
       "       [6, 5, 7]])"
      ]
     },
     "execution_count": 29,
     "metadata": {},
     "output_type": "execute_result"
    }
   ],
   "source": [
    "# Broadcasting across multiple arrays \n",
    "a = np.array([[1,2,3],[2,3,1],[4,2,3]]) # 3 x 3\n",
    "b = np.array([[2,3,4]]) # 1x3\n",
    "a + b"
   ]
  },
  {
   "cell_type": "markdown",
   "metadata": {},
   "source": [
    "Linear Algebra"
   ]
  },
  {
   "cell_type": "code",
   "execution_count": 30,
   "metadata": {},
   "outputs": [
    {
     "data": {
      "text/plain": [
       "array([3, 8, 6])"
      ]
     },
     "execution_count": 30,
     "metadata": {},
     "output_type": "execute_result"
    }
   ],
   "source": [
    "# Matrix multiplication\n",
    "a = np.array([1,2,3])\n",
    "b = np.array([3,4,2])\n",
    "a * b"
   ]
  },
  {
   "cell_type": "code",
   "execution_count": 31,
   "metadata": {},
   "outputs": [
    {
     "name": "stdout",
     "output_type": "stream",
     "text": [
      "a.b = 17\n"
     ]
    }
   ],
   "source": [
    "# Dot product \n",
    "print(f\"a.b = {a.dot(b)}\") "
   ]
  },
  {
   "cell_type": "code",
   "execution_count": 32,
   "metadata": {},
   "outputs": [
    {
     "name": "stdout",
     "output_type": "stream",
     "text": [
      "axb =\n",
      "[[22  9]\n",
      " [24 19]\n",
      " [22  9]]\n"
     ]
    }
   ],
   "source": [
    "# Cross product \n",
    "a = np.array([[1,2,3], [4,1,2], [1,2,3]]) # 3x3\n",
    "b = np.array([[3,4],[2,1],[5,1]]) #3x2\n",
    "\n",
    "# Note: the column of a = the row of b\n",
    "print(f\"axb =\")\n",
    "print(np.matmul(a, b))"
   ]
  },
  {
   "cell_type": "code",
   "execution_count": 33,
   "metadata": {},
   "outputs": [
    {
     "data": {
      "text/plain": [
       "-2.0000000000000004"
      ]
     },
     "execution_count": 33,
     "metadata": {},
     "output_type": "execute_result"
    }
   ],
   "source": [
    "# Determinant \n",
    "a = np.array([[1,2],[3,4]])\n",
    "determinant = np.linalg.det(a) \n",
    "determinant"
   ]
  },
  {
   "cell_type": "code",
   "execution_count": 34,
   "metadata": {},
   "outputs": [
    {
     "name": "stdout",
     "output_type": "stream",
     "text": [
      "b = \n",
      "[[-2.   1. ]\n",
      " [ 1.5 -0.5]]\n",
      "axb=\n",
      "[[1.0000000e+00 0.0000000e+00]\n",
      " [8.8817842e-16 1.0000000e+00]]\n"
     ]
    }
   ],
   "source": [
    "# Inverse matrix \n",
    "a = np.array([[1,2],[3,4]])\n",
    "b = np.linalg.inv(a) \n",
    "print(\"b = \")\n",
    "print(b) \n",
    "print(\"axb=\")\n",
    "print(np.matmul(a,b))"
   ]
  },
  {
   "cell_type": "code",
   "execution_count": 35,
   "metadata": {},
   "outputs": [
    {
     "data": {
      "text/plain": [
       "array([[0, 1, 2],\n",
       "       [3, 4, 5],\n",
       "       [6, 7, 8]])"
      ]
     },
     "execution_count": 35,
     "metadata": {},
     "output_type": "execute_result"
    }
   ],
   "source": [
    "# Diagonal matrix\n",
    "x = np.arange(9).reshape((3,3))\n",
    "x"
   ]
  },
  {
   "cell_type": "code",
   "execution_count": 36,
   "metadata": {},
   "outputs": [
    {
     "name": "stdout",
     "output_type": "stream",
     "text": [
      "0th diagonal = [0 4 8]\n",
      "1st diagonal = [1 5]\n",
      "-1th diagonal = [3 7]\n"
     ]
    }
   ],
   "source": [
    "print(f\"0th diagonal = {np.diag(x)}\")\n",
    "print(f\"1st diagonal = {np.diag(x, k=1)}\")\n",
    "print(f\"-1th diagonal = {np.diag(x, k=-1)}\")"
   ]
  },
  {
   "cell_type": "markdown",
   "metadata": {},
   "source": [
    "Load data to a file"
   ]
  },
  {
   "cell_type": "code",
   "execution_count": 38,
   "metadata": {},
   "outputs": [
    {
     "data": {
      "text/plain": [
       "array([[1.5, 2.1, 5.4, 6.1],\n",
       "       [1.2, 3.1, 5.1, 5.1],\n",
       "       [1. , 5.1, 5.1, 3.2]])"
      ]
     },
     "execution_count": 38,
     "metadata": {},
     "output_type": "execute_result"
    }
   ],
   "source": [
    "a = np.genfromtxt(\"numbers.csv\", delimiter=\",\")\n",
    "a"
   ]
  },
  {
   "cell_type": "markdown",
   "metadata": {},
   "source": [
    "Speed test with Python lists"
   ]
  },
  {
   "cell_type": "code",
   "execution_count": 39,
   "metadata": {},
   "outputs": [
    {
     "name": "stdout",
     "output_type": "stream",
     "text": [
      "Time to process Python list = 0.10660815238952637s\n",
      "Time to process Numpy array = 0.0013051033020019531s\n"
     ]
    }
   ],
   "source": [
    "a = [i for i in range(1000000)]\n",
    "b = np.arange(1000000)\n",
    "import time\n",
    "\n",
    "start = time.time() \n",
    "for i in range(len(a)): \n",
    "    a[i] += 1\n",
    "end = time.time() \n",
    "print(f\"Time to process Python list = {end - start}s\")\n",
    "\n",
    "start = time.time() \n",
    "b = b + 1\n",
    "end = time.time() \n",
    "print(f\"Time to process Numpy array = {end - start}s\")\n"
   ]
  }
 ],
 "metadata": {
  "kernelspec": {
   "display_name": "Python 3",
   "language": "python",
   "name": "python3"
  },
  "language_info": {
   "codemirror_mode": {
    "name": "ipython",
    "version": 3
   },
   "file_extension": ".py",
   "mimetype": "text/x-python",
   "name": "python",
   "nbconvert_exporter": "python",
   "pygments_lexer": "ipython3",
   "version": "3.10.1"
  }
 },
 "nbformat": 4,
 "nbformat_minor": 2
}
